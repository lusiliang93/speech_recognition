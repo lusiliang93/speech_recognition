{
 "cells": [
  {
   "cell_type": "code",
   "execution_count": 20,
   "metadata": {
    "collapsed": true
   },
   "outputs": [],
   "source": [
    "import pandas as pd\n",
    "import numpy as np"
   ]
  },
  {
   "cell_type": "code",
   "execution_count": 2,
   "metadata": {
    "collapsed": true
   },
   "outputs": [],
   "source": [
    "f= open(\"a.txt\",\"r\")\n",
    "file = open(\"b.txt\",\"w+\")"
   ]
  },
  {
   "cell_type": "code",
   "execution_count": 3,
   "metadata": {
    "collapsed": true
   },
   "outputs": [],
   "source": [
    "for line in f:\n",
    "    new = line.split('\\t')\n",
    "    new = new[3:]\n",
    "    new = ' '.join(new)\n",
    "    file.write(new+'\\n')"
   ]
  },
  {
   "cell_type": "code",
   "execution_count": 4,
   "metadata": {
    "collapsed": true
   },
   "outputs": [],
   "source": [
    "import re\n",
    "file = open(\"code.txt\")\n",
    "lan = open(\"lan.txt\",\"w+\")\n",
    "sw = []\n",
    "for line in file:\n",
    "    new = line.split(\" \")\n",
    "    eng = []\n",
    "    eng.append('')\n",
    "    for i in new:\n",
    "        if i.encode( 'UTF-8' ).isalpha():\n",
    "            eng.append(i)\n",
    "        elif i > u'\\u4e00' and i < u'\\u9fff':\n",
    "            switch = [eng[-1],i]\n",
    "            sw.append(switch)\n",
    "            if eng[-1] is not \"<sw>\":\n",
    "                eng.append(\"<sw>\")\n",
    "    eng = ' '.join(eng)\n",
    "    lan.write(eng[1:]+'\\n')"
   ]
  },
  {
   "cell_type": "code",
   "execution_count": 5,
   "metadata": {
    "collapsed": true
   },
   "outputs": [],
   "source": [
    "file = open(\"englm.txt\",'r')\n",
    "f = open(\"eng_sw.txt\",'w+')\n",
    "f1 = open(\"sw_eng.txt\",'w+')\n",
    "for line in file:\n",
    "    if '<sw>' in line :\n",
    "        tokens = line.split()\n",
    "        if tokens[-1] == '<sw>':\n",
    "            f.write(line+'\\n')\n",
    "        else:\n",
    "            f1.write(line+'\\n')\n",
    "f.close()\n",
    "f1.close()"
   ]
  },
  {
   "cell_type": "code",
   "execution_count": 6,
   "metadata": {
    "collapsed": true
   },
   "outputs": [],
   "source": [
    "file = open(\"chnlm.txt\",'r')\n",
    "f = open(\"chn_sw.txt\",'w+')\n",
    "f1 = open(\"sw_chn.txt\",'w+')\n",
    "for line in file:\n",
    "    if '<sw>' in line :\n",
    "        tokens = line.split()\n",
    "        if tokens[-1] == '<sw>':\n",
    "            f.write(line+'\\n')\n",
    "        else:\n",
    "            f1.write(line+'\\n')\n",
    "f.close()\n",
    "f1.close()"
   ]
  },
  {
   "cell_type": "code",
   "execution_count": 4,
   "metadata": {},
   "outputs": [
    {
     "ename": "KeyboardInterrupt",
     "evalue": "",
     "output_type": "error",
     "traceback": [
      "\u001b[0;31m---------------------------------------------------------------------------\u001b[0m",
      "\u001b[0;31mKeyboardInterrupt\u001b[0m                         Traceback (most recent call last)",
      "\u001b[0;32m<ipython-input-4-f7e373c394d2>\u001b[0m in \u001b[0;36m<module>\u001b[0;34m()\u001b[0m\n\u001b[1;32m     28\u001b[0m     \u001b[0mnew\u001b[0m\u001b[0;34m[\u001b[0m\u001b[0;36m2\u001b[0m\u001b[0;34m]\u001b[0m \u001b[0;34m=\u001b[0m \u001b[0mchn\u001b[0m\u001b[0;34m\u001b[0m\u001b[0m\n\u001b[1;32m     29\u001b[0m     \u001b[0;32mfor\u001b[0m \u001b[0mi\u001b[0m \u001b[0;32min\u001b[0m \u001b[0mrange\u001b[0m\u001b[0;34m(\u001b[0m\u001b[0mlen\u001b[0m\u001b[0;34m(\u001b[0m\u001b[0meng_sw\u001b[0m\u001b[0;34m)\u001b[0m\u001b[0;34m)\u001b[0m\u001b[0;34m:\u001b[0m\u001b[0;34m\u001b[0m\u001b[0m\n\u001b[0;32m---> 30\u001b[0;31m         \u001b[0mtokens1\u001b[0m \u001b[0;34m=\u001b[0m \u001b[0meng_sw\u001b[0m\u001b[0;34m[\u001b[0m\u001b[0mi\u001b[0m\u001b[0;34m]\u001b[0m\u001b[0;34m.\u001b[0m\u001b[0msplit\u001b[0m\u001b[0;34m(\u001b[0m\u001b[0;34m)\u001b[0m\u001b[0;34m\u001b[0m\u001b[0m\n\u001b[0m\u001b[1;32m     31\u001b[0m         \u001b[0;32mif\u001b[0m \u001b[0meng\u001b[0m \u001b[0;32min\u001b[0m \u001b[0mtokens1\u001b[0m\u001b[0;34m:\u001b[0m\u001b[0;34m\u001b[0m\u001b[0m\n\u001b[1;32m     32\u001b[0m             \u001b[0mp1\u001b[0m \u001b[0;34m=\u001b[0m \u001b[0mfloat\u001b[0m\u001b[0;34m(\u001b[0m\u001b[0mtokens1\u001b[0m\u001b[0;34m[\u001b[0m\u001b[0;36m0\u001b[0m\u001b[0;34m]\u001b[0m\u001b[0;34m)\u001b[0m\u001b[0;34m\u001b[0m\u001b[0m\n",
      "\u001b[0;31mKeyboardInterrupt\u001b[0m: "
     ]
    }
   ],
   "source": [
    "# calculate P(chn|eng) \n",
    "mix = open('eng_chn.txt','w')\n",
    "prob = []\n",
    "\n",
    "eng_sw = []\n",
    "sw_chn = []\n",
    "switch = []\n",
    "with open('eng_sw.txt','r') as f1:\n",
    "    for l1 in f1:\n",
    "        eng_sw.append(l1)\n",
    "with open('sw_chn.txt','r') as f2:\n",
    "    for l2 in f2:\n",
    "        sw_chn.append(l2)\n",
    "with open('switch.txt','r') as file:\n",
    "    for l in file:\n",
    "        switch.append(l)\n",
    "f1.close()\n",
    "f2.close()\n",
    "file.close()\n",
    "        \n",
    "for i in range(len(switch)):\n",
    "    new = [0,'','']\n",
    "    line = switch[i]\n",
    "    tokens = line.split()\n",
    "    eng = tokens[0]\n",
    "    chn = tokens[1]\n",
    "    new[1] = eng\n",
    "    new[2] = chn\n",
    "    for i in range(len(eng_sw)):\n",
    "        tokens1 = eng_sw[i].split()\n",
    "        if eng in tokens1:\n",
    "            p1 = float(tokens1[0])\n",
    "    for j in range(len(sw_chn)):\n",
    "        tokens2 = sw_chn[j].split()\n",
    "        if chn in tokens2:\n",
    "            p2 = float(tokens2[0])\n",
    "    p = p1+p2\n",
    "    #print(p)\n",
    "    prob.append(p)\n",
    "    new[0] = str(p)\n",
    "    mix.write(' '.join(new)+'\\n')\n",
    "\n",
    "print(len(prob))\n",
    "mix.close()"
   ]
  },
  {
   "cell_type": "code",
   "execution_count": null,
   "metadata": {
    "collapsed": true
   },
   "outputs": [],
   "source": []
  }
 ],
 "metadata": {
  "kernelspec": {
   "display_name": "Python 3",
   "language": "python",
   "name": "python3"
  },
  "language_info": {
   "codemirror_mode": {
    "name": "ipython",
    "version": 3
   },
   "file_extension": ".py",
   "mimetype": "text/x-python",
   "name": "python",
   "nbconvert_exporter": "python",
   "pygments_lexer": "ipython3",
   "version": "3.6.3"
  }
 },
 "nbformat": 4,
 "nbformat_minor": 2
}
